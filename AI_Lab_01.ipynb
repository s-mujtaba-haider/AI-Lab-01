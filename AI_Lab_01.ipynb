{
  "nbformat": 4,
  "nbformat_minor": 0,
  "metadata": {
    "colab": {
      "provenance": []
    },
    "kernelspec": {
      "name": "python3",
      "display_name": "Python 3"
    },
    "language_info": {
      "name": "python"
    }
  },
  "cells": [
    {
      "cell_type": "code",
      "source": [
        "# Q - 1\n",
        "def Reverse(sentence):\n",
        "  s = 0\n",
        "  e = len(sentence)-1\n",
        "  while s<e:\n",
        "    sentence[s],sentence[e] = sentence[e],sentence[s]\n",
        "    s+=1\n",
        "    e-=1"
      ],
      "metadata": {
        "id": "_afq9uIn8m9T"
      },
      "execution_count": null,
      "outputs": []
    },
    {
      "cell_type": "code",
      "source": [
        "text = [\"M\", \"u\", \"j\", \"t\", \"a\", \"b\", \"a\"]\n",
        "Reverse(text)\n",
        "print(text)"
      ],
      "metadata": {
        "colab": {
          "base_uri": "https://localhost:8080/"
        },
        "id": "lhxFewJU8p3J",
        "outputId": "6783283c-bcbc-47d5-ffa6-75079e297a0f"
      },
      "execution_count": null,
      "outputs": [
        {
          "output_type": "stream",
          "name": "stdout",
          "text": [
            "['a', 'b', 'a', 't', 'j', 'u', 'M']\n"
          ]
        }
      ]
    },
    {
      "cell_type": "code",
      "source": [
        "# Q - 2\n",
        "def Palindrome(sentence):\n",
        "    sentence = ''.join(char.lower() for char in sentence if char.isalnum())\n",
        "    s = 0\n",
        "    e = len(sentence)-1\n",
        "    while s<e:\n",
        "      if sentence[s]!=sentence[e]:\n",
        "        return False\n",
        "      s += 1\n",
        "      e -= 1\n",
        "    return True"
      ],
      "metadata": {
        "id": "CnOmJH4h9Qs6"
      },
      "execution_count": null,
      "outputs": []
    },
    {
      "cell_type": "code",
      "source": [
        "text = \"A man, a plan, a canal: Panama\"\n",
        "print(Palindrome(text))\n",
        "\n",
        "text1 = \"race a car\"\n",
        "print(Palindrome(text1))"
      ],
      "metadata": {
        "colab": {
          "base_uri": "https://localhost:8080/"
        },
        "id": "9tG14ByC-9dc",
        "outputId": "f451630c-8897-4201-c76f-04a74a51286a"
      },
      "execution_count": null,
      "outputs": [
        {
          "output_type": "stream",
          "name": "stdout",
          "text": [
            "True\n",
            "False\n"
          ]
        }
      ]
    },
    {
      "cell_type": "code",
      "source": [
        "# Q - 3\n",
        "def SquareRoot(x):\n",
        "  x = int(x)\n",
        "  return int(x**0.5)\n",
        "\n",
        "\n",
        "x = input(\"Enter number : \")\n",
        "print(\"Square Root : \",SquareRoot(x))"
      ],
      "metadata": {
        "colab": {
          "base_uri": "https://localhost:8080/"
        },
        "id": "fPFcCNMsAXkT",
        "outputId": "c804c8df-65e6-48b7-9286-b626ee3c38ff"
      },
      "execution_count": null,
      "outputs": [
        {
          "output_type": "stream",
          "name": "stdout",
          "text": [
            "Enter number : 8\n",
            "Square Root :  2\n"
          ]
        }
      ]
    }
  ]
}